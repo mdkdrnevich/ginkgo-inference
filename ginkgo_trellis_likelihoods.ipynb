{
 "cells": [
  {
   "cell_type": "code",
   "execution_count": 1,
   "metadata": {},
   "outputs": [],
   "source": [
    "%load_ext autoreload\n",
    "%autoreload 2"
   ]
  },
  {
   "cell_type": "code",
   "execution_count": 2,
   "metadata": {},
   "outputs": [],
   "source": [
    "import sys\n",
    "sys.path.append(\"./ClusterTrellis/src\")"
   ]
  },
  {
   "cell_type": "code",
   "execution_count": 3,
   "metadata": {},
   "outputs": [],
   "source": [
    "import os\n",
    "import pickle\n",
    "import string\n",
    "import time\n",
    "import logging\n",
    "import numpy as np\n",
    "import importlib"
   ]
  },
  {
   "cell_type": "code",
   "execution_count": 4,
   "metadata": {},
   "outputs": [],
   "source": [
    "from ClusterTrellis import run_experiments as rpe\n",
    "from ClusterTrellis import HierarchicalTrellis\n",
    "from ClusterTrellis.trellis_node import TrellisNode"
   ]
  },
  {
   "cell_type": "code",
   "execution_count": 5,
   "metadata": {},
   "outputs": [],
   "source": [
    "%matplotlib inline\n",
    "import matplotlib.pyplot as plt\n",
    "plt.rcParams[\"figure.figsize\"] = (8, 8)\n",
    "\n",
    "import matplotlib as mpl\n",
    "from matplotlib import rcParams\n",
    "from matplotlib.colors import Normalize\n",
    "import matplotlib.cm as cm\n",
    "from matplotlib.colors import LogNorm\n",
    "from matplotlib import ticker\n",
    "from matplotlib import colors\n",
    "from matplotlib.patches import Ellipse\n",
    "from matplotlib import gridspec\n",
    "\n",
    "import matplotlib\n",
    "#matplotlib.rc('font',**{'family':'serif','serif':['Times']})\n",
    "#matplotlib.rc('text', usetex=True) \n",
    "matplotlib.rcParams.update({'font.size': 10})"
   ]
  },
  {
   "cell_type": "code",
   "execution_count": 6,
   "metadata": {},
   "outputs": [],
   "source": [
    "from ClusterTrellis.utils import get_logger\n",
    "logger = get_logger(level=logging.WARNING)"
   ]
  },
  {
   "cell_type": "markdown",
   "metadata": {},
   "source": [
    "# General remarks"
   ]
  },
  {
   "cell_type": "markdown",
   "metadata": {},
   "source": [
    "The Hierarchical Cluster Trellis data structure and algorithms to calculate the partition function and MAP hierarchies are introduced in https://arxiv.org/abs/2002.11661\n",
    "\n",
    "To run the Cluster Trellis on a new model, define the get_energy_of_split and compute_map_features methods in the ModelNode class below. In particular,  get_energy_of_split represents the potential function $\\psi$ introduced in the paper, describing the compatibility of a pair of sibling nodes in a hierarchy $H$.\n",
    "\n",
    "The energy function $\\psi$ for a pairwise splitting should be written in terms of the map_features and model_params. Thus, compute_map_features is an auxiliary function to calculate features of internal vertices in the trellis. The current implementation assumes that the model parameters are the same for every vertex in the trellis.\n",
    "\n",
    "- map_features : list, where each entry is a list with the model features/values for each vertex of a dataset. In particular, we initialize the algorithm with the leaves_features list as [feature1, feature2, ... , featureN]. E.g. for Ginkgo this is [momentum, invariant mass] for each leaf.\n",
    "\n",
    "- model_params : dictionary with the model parameters.\n",
    "\n"
   ]
  },
  {
   "cell_type": "markdown",
   "metadata": {},
   "source": [
    "# Interfacing on Ginkgo"
   ]
  },
  {
   "cell_type": "code",
   "execution_count": 7,
   "metadata": {},
   "outputs": [],
   "source": [
    "\"\"\"Replace with model auxiliary scripts to calculate the energy function\"\"\"\n",
    "#from ClusterTrellis import Ginkgo_likelihood as likelihood\n",
    "from ginkgo import likelihood_invM as likelihood"
   ]
  },
  {
   "cell_type": "code",
   "execution_count": 8,
   "metadata": {},
   "outputs": [
    {
     "name": "stderr",
     "output_type": "stream",
     "text": [
      "/ext3/miniconda3/lib/python3.8/site-packages/ipykernel/ipkernel.py:283: DeprecationWarning: `should_run_async` will not call `transform_cell` automatically in the future. Please pass the result to `transformed_cell` argument and any exception that happen during thetransform in `preprocessing_exc_tuple` in IPython 7.17 and above.\n",
      "  and should_run_async(code)\n"
     ]
    }
   ],
   "source": [
    "class ModelNode(TrellisNode):\n",
    "    \"\"\"Class to define the node pairwise splitting energy and calculate node features for a given model \"\"\"\n",
    "\n",
    "    def __init__(self,\n",
    "                 model_params,\n",
    "                 elements = None,\n",
    "                 children = None,\n",
    "                 map_features = None):\n",
    "        TrellisNode.__init__(self, model_params, elements, children, map_features)\n",
    "\n",
    "\n",
    "    def get_energy_of_split(self, a_node, b_node):\n",
    "        \"\"\"Model energy function.\n",
    "        Args: sibling nodes\n",
    "        returns: model pairwise splitting energy\n",
    "        \"\"\"\n",
    "\n",
    "        logger.debug(f\"computing energy of split: {a_node, b_node}\")\n",
    "\n",
    "        split_llh = likelihood.split_logLH_with_stop_nonstop_prob(a_node.map_features,\n",
    "                                           b_node.map_features,\n",
    "                                           self.model_params[\"delta_min\"],\n",
    "                                           self.model_params[\"lam\"])\n",
    "        logger.debug(f\"split_llh = {split_llh}\")\n",
    "\n",
    "        return split_llh\n",
    "\n",
    "\n",
    "    def compute_map_features(self, a_node, b_node):\n",
    "        \"\"\"Auxiliary method to get the parent vertex features. This is model dependent. In Ginkgo these are the momentum and parent         invariant mass.\n",
    "        Args: sibling nodes\n",
    "        returns: list where each entry is a parent feature, e.g. [feature1,feature2,...]\n",
    "        \"\"\"\n",
    "        momentum = a_node.map_features + b_node.map_features\n",
    "        logger.debug(f\"computing momentum for {a_node, b_node, momentum}\")\n",
    "\n",
    "        \n",
    "#         logger.debug(f\"computing  parent invariant mass {a_node, a_node.map_features, b_node, b_node.map_features}\")\n",
    "#         pP = a_node.map_features + b_node.map_features\n",
    "\n",
    "#         \"\"\"Parent invariant mass squared\"\"\"\n",
    "#         tp1 = pP[0] ** 2 - np.linalg.norm(pP[1::]) ** 2\n",
    "#         logger.debug(f\"tp =  {tp1}\")\n",
    "\n",
    "        return momentum"
   ]
  },
  {
   "cell_type": "code",
   "execution_count": null,
   "metadata": {},
   "outputs": [],
   "source": []
  },
  {
   "cell_type": "markdown",
   "metadata": {},
   "source": [
    "## Load Datsets"
   ]
  },
  {
   "cell_type": "code",
   "execution_count": 9,
   "metadata": {},
   "outputs": [],
   "source": [
    "#label = \"Trellis\"; plotDir = \"../experiments/plots/\""
   ]
  },
  {
   "cell_type": "code",
   "execution_count": 10,
   "metadata": {},
   "outputs": [],
   "source": [
    "def load_jets(root_dir, filename):\n",
    "    \"\"\"Load truth binary trees\"\"\"\n",
    "    #root_dir = \"../data/\"\n",
    "    filename = os.path.join(root_dir, filename)\n",
    "    with open(filename + \".pkl\", \"rb\") as fd:\n",
    "        Truth= pickle.load(fd, encoding='latin-1')\n",
    "    return Truth"
   ]
  },
  {
   "cell_type": "code",
   "execution_count": 11,
   "metadata": {},
   "outputs": [],
   "source": [
    "gt_trees = load_jets(\"data\", \"ginkgo_5000_jets_no_cuts_lambda_21_pt_min_36_jetp_400\")  # My test file"
   ]
  },
  {
   "cell_type": "code",
   "execution_count": 12,
   "metadata": {},
   "outputs": [
    {
     "data": {
      "text/plain": [
       "5000"
      ]
     },
     "execution_count": 12,
     "metadata": {},
     "output_type": "execute_result"
    }
   ],
   "source": [
    "len(gt_trees)"
   ]
  },
  {
   "cell_type": "markdown",
   "metadata": {},
   "source": [
    "# Run Exact trellis on truth trees step by step"
   ]
  },
  {
   "cell_type": "markdown",
   "metadata": {},
   "source": [
    "Replace leaves_features and model_params with current model values"
   ]
  },
  {
   "cell_type": "code",
   "execution_count": 14,
   "metadata": {},
   "outputs": [],
   "source": [
    "\"\"\"Find MAP hierarchy and partition function \"\"\"\n",
    "times=[]\n",
    "MAP = []\n",
    "likelihoods = []\n",
    "for i in range(2):\n",
    "    \n",
    "    \"\"\"Dataset\"\"\"\n",
    "    data_params = gt_trees[i]\n",
    "    \n",
    "    \"\"\"Number of elements\"\"\"\n",
    "    N=len(data_params['leaves'])\n",
    "\n",
    "    \"\"\"Replace with leaves features for current model\"\"\"\n",
    "    leaves_features =[ data_params['leaves'][i] for i in range(N)]\n",
    "    \n",
    "    \"\"\"Replace with current model parameters\n",
    "    \"\"\"\n",
    "    model_params ={}\n",
    "    model_params[\"delta_min\"] = float(data_params['pt_cut'])\n",
    "    model_params[\"lam\"]= float(data_params['Lambda'])\n",
    "    \n",
    "    startTime = time.time()\n",
    "    \n",
    "    \"\"\" Create trellis\"\"\"\n",
    "    a_trellis = HierarchicalTrellis.HierarchicalTrellis()\n",
    "    a_trellis.create_from_leaves(leaves_features, \n",
    "                                                  model_params, \n",
    "                                                  NodeClass = ModelNode)\n",
    "    \n",
    "    \"\"\"Compute MAP (MLE), partition function Z\"\"\"\n",
    "    map_energy, Z , Ntrees= np.float64(a_trellis.compute_map_tree())\n",
    "    endTime = time.time() - startTime\n",
    "    \n",
    "    times.append(endTime)\n",
    "    likelihoods.append(Z)\n",
    "    MAP.append(map_energy)"
   ]
  },
  {
   "cell_type": "code",
   "execution_count": 15,
   "metadata": {},
   "outputs": [
    {
     "name": "stdout",
     "output_type": "stream",
     "text": [
      "Maximum likelihood hierarchy =  [-53.73657706548606, -35.89001888229393]\n",
      "Likelihood of data = [-47.35023933863254, -32.30073910531696]\n",
      "times =  [0.5110373497009277, 0.06080222129821777]\n"
     ]
    }
   ],
   "source": [
    "print(\"Maximum likelihood hierarchy = \",  MAP)\n",
    "print(\"Likelihood of data =\", likelihoods)\n",
    "print(\"times = \",times)"
   ]
  },
  {
   "cell_type": "markdown",
   "metadata": {},
   "source": [
    "# Run Trellis and fill results with MAP and Partition Function Z "
   ]
  },
  {
   "cell_type": "markdown",
   "metadata": {},
   "source": [
    "Replace leaves_features and model_params with current model values"
   ]
  },
  {
   "cell_type": "code",
   "execution_count": 16,
   "metadata": {},
   "outputs": [],
   "source": [
    "def runTrellisOnly(gt_trees,\n",
    "                   model_params,\n",
    "                   NleavesMin =3, \n",
    "                   NleavesMax= 4, \n",
    "                   MaxNjets = 1):\n",
    "    \n",
    "    \"\"\"Create and fill the trellis for a given set of leaves\n",
    "    Args: \n",
    "    gt_trees : truth level  trees.\n",
    "    NleavesMin: minimum number of leaves to select  trees\n",
    "    NleavesMax: maximum number of leaves to select  trees\n",
    "    MaxNjets: maximum number of trees to run the trellis code.\n",
    "    \n",
    "    Returns:\n",
    "    results: dictionary with the following {key:values}\n",
    "                Z: partition functions,\n",
    "                trellis_MLE: MAP hierarchy, \n",
    "                RunTime: time for each tree\n",
    "                totJets\": total number of trees\n",
    "                gt_llh: truth level trees llh\n",
    " \n",
    "    \"\"\"\n",
    "    \n",
    "    \"\"\" Keep only trees with leaves between NleavesMin and NleavesMax\"\"\"\n",
    "    smallJetIndex =[i for i,gt_tree in enumerate(gt_trees)  if NleavesMin<=len(gt_tree[\"leaves\"])<NleavesMax]\n",
    "            \n",
    "    \n",
    "    results = {\"Z\":[], \"trellis_MLE\":[], \"RunTime\":[], \"Ntrees\":[]}\n",
    "    \n",
    "    if len(smallJetIndex)>0:\n",
    "        \n",
    "        GT_trees = np.asarray(gt_trees)[smallJetIndex]\n",
    "        \n",
    "        \"\"\" Total number of trees to run the trellis\"\"\"\n",
    "        totTrees = np.min([MaxNjets,len(smallJetIndex)])\n",
    "\n",
    "        results[\"totTrees\"] = totTrees\n",
    "        results[\"Nleaves\"] = [len(GT_trees[m][\"leaves\"]) for m in range(totTrees)]\n",
    "        results[\"gt_llh\"]= [np.sum(GT_trees[m][\"logLH\"]) for m in range(totTrees)]\n",
    "\n",
    "        for m in range(totTrees):\n",
    "\n",
    "            #if m%50==0:\n",
    "            #    print(\"Creating trellis for jet #\",m)\n",
    "                \n",
    "            startTime = time.time()\n",
    "            \n",
    "            data_params = GT_trees[m]\n",
    "            N=len(data_params['leaves'])\n",
    "            \n",
    "            \"\"\"Replace with current model parameters\"\"\"\n",
    "            leaves_features =[ data_params['leaves'][i] for i in range(N)]\n",
    "            #model_params ={}\n",
    "            #model_params[\"delta_min\"] = float(data_params['pt_cut'])\n",
    "            #model_params[\"lam\"]= float(data_params['Lambda'])\n",
    "\n",
    "            \"\"\" Create and fill the trellis\"\"\"\n",
    "            trellis, Z, map_energy, Ntrees,  totTime = rpe.compare_map_gt_and_bs_trees(GT_trees[m],\n",
    "                                                                                       ModelNode,\n",
    "                                                                                       leaves_features,\n",
    "                                                                                       model_params)\n",
    "\n",
    "            results[\"Z\"].append(Z)\n",
    "            results[\"trellis_MLE\"].append(map_energy)\n",
    "            results[\"Ntrees\"].append(Ntrees)\n",
    "\n",
    "            endTime = time.time() - startTime\n",
    "            results[\"RunTime\"].append(endTime)\n",
    "\n",
    "    else:\n",
    "        print(\"There are no jets in the dataset with the required number of leaves \")\n",
    "\n",
    "    return results, trellis"
   ]
  },
  {
   "cell_type": "markdown",
   "metadata": {},
   "source": [
    "## Run a few trellis algorithms on a given set of parameters"
   ]
  },
  {
   "cell_type": "code",
   "execution_count": 17,
   "metadata": {},
   "outputs": [
    {
     "name": "stdout",
     "output_type": "stream",
     "text": [
      "Total time =  0.402327299118042\n"
     ]
    }
   ],
   "source": [
    "NleavesMin =4\n",
    "NleavesMax=8\n",
    "MaxNjets = 5\n",
    "\n",
    "model_params = {\"delta_min\": 10, \"lam\": 1.5}\n",
    "\n",
    "start = time.time()\n",
    "results10, trellis10 =  runTrellisOnly(gt_trees, \n",
    "                                       model_params,\n",
    "                                       NleavesMin =NleavesMin, \n",
    "                                       NleavesMax= NleavesMax, \n",
    "                                       MaxNjets = MaxNjets)\n",
    "\n",
    "print(\"Total time = \", time.time() - start)"
   ]
  },
  {
   "cell_type": "code",
   "execution_count": 18,
   "metadata": {},
   "outputs": [
    {
     "data": {
      "text/plain": [
       "[-43.44432115887727,\n",
       " -42.543417937541506,\n",
       " -32.91910720917589,\n",
       " -33.85903588753131,\n",
       " -48.60749017753346]"
      ]
     },
     "execution_count": 18,
     "metadata": {},
     "output_type": "execute_result"
    }
   ],
   "source": [
    "results10[\"Z\"]"
   ]
  },
  {
   "cell_type": "code",
   "execution_count": 19,
   "metadata": {},
   "outputs": [
    {
     "data": {
      "text/plain": [
       "[-47.462072945903,\n",
       " -47.05788582016389,\n",
       " -36.96852106393392,\n",
       " -35.981073304856444,\n",
       " -54.78168030239093]"
      ]
     },
     "execution_count": 19,
     "metadata": {},
     "output_type": "execute_result"
    }
   ],
   "source": [
    "results10[\"trellis_MLE\"]"
   ]
  },
  {
   "cell_type": "code",
   "execution_count": 20,
   "metadata": {},
   "outputs": [
    {
     "data": {
      "text/plain": [
       "[6, 6, 6, 5, 7]"
      ]
     },
     "execution_count": 20,
     "metadata": {},
     "output_type": "execute_result"
    }
   ],
   "source": [
    "results10[\"Nleaves\"]"
   ]
  },
  {
   "cell_type": "code",
   "execution_count": 21,
   "metadata": {},
   "outputs": [
    {
     "data": {
      "text/plain": [
       "{'Z': [-43.44432115887727,\n",
       "  -42.543417937541506,\n",
       "  -32.91910720917589,\n",
       "  -33.85903588753131,\n",
       "  -48.60749017753346],\n",
       " 'trellis_MLE': [-47.462072945903,\n",
       "  -47.05788582016389,\n",
       "  -36.96852106393392,\n",
       "  -35.981073304856444,\n",
       "  -54.78168030239093],\n",
       " 'RunTime': [0.060769081115722656,\n",
       "  0.06241583824157715,\n",
       "  0.06095290184020996,\n",
       "  0.021274089813232422,\n",
       "  0.183302640914917],\n",
       " 'Ntrees': [840.0, 840.0, 840.0, 90.0, 10395.0],\n",
       " 'totTrees': 5,\n",
       " 'Nleaves': [6, 6, 6, 5, 7],\n",
       " 'gt_llh': [-36.61776852607727,\n",
       "  -37.959691286087036,\n",
       "  -38.94296383857727,\n",
       "  -27.801023960113525,\n",
       "  -46.4423565864563]}"
      ]
     },
     "execution_count": 21,
     "metadata": {},
     "output_type": "execute_result"
    }
   ],
   "source": [
    "results10"
   ]
  },
  {
   "cell_type": "markdown",
   "metadata": {},
   "source": [
    "## Test a grid search"
   ]
  },
  {
   "cell_type": "code",
   "execution_count": 21,
   "metadata": {},
   "outputs": [
    {
     "data": {
      "text/plain": [
       "(36.0, tensor(2.1000))"
      ]
     },
     "execution_count": 21,
     "metadata": {},
     "output_type": "execute_result"
    }
   ],
   "source": [
    "gt_trees[0][\"pt_cut\"], gt_trees[0][\"Lambda\"]"
   ]
  },
  {
   "cell_type": "code",
   "execution_count": 22,
   "metadata": {},
   "outputs": [
    {
     "data": {
      "text/plain": [
       "array([[ 78.07177753,  47.06198737,  44.39343007,  43.49505016],\n",
       "       [208.779298  , 120.30239049, 120.68988559, 120.61533308],\n",
       "       [ 76.39401051,  43.42661549,  43.64774367,  45.21960932],\n",
       "       [ 16.14635555,   9.49412441,   9.19007343,   8.27433209],\n",
       "       [ 12.47636631,   6.68554264,   6.89288947,   7.7335951 ],\n",
       "       [  9.25561739,   3.969449  ,   6.1260871 ,   5.60218957]])"
      ]
     },
     "execution_count": 22,
     "metadata": {},
     "output_type": "execute_result"
    }
   ],
   "source": [
    "gt_trees[25][\"leaves\"]"
   ]
  },
  {
   "cell_type": "code",
   "execution_count": null,
   "metadata": {},
   "outputs": [],
   "source": [
    "NleavesMin =1\n",
    "NleavesMax=30\n",
    "MaxNjets = 100\n",
    "\n",
    "n_cuts = 30\n",
    "n_lambda = 30\n",
    "\n",
    "cut_vals = np.linspace(4, 120, n_cuts)\n",
    "lambda_vals = np.round(np.exp(np.linspace(np.log(1e-3), np.log(5), n_lambda)), decimals=6)\n",
    "#lambda_vals = np.linspace(0.1, 3.5, n_lambda)\n",
    "grid_cut, grid_lambda = np.meshgrid(cut_vals, lambda_vals)\n",
    "\n",
    "max_Z = -np.inf\n",
    "mle_params = None\n",
    "likelihood_surface = np.zeros((30,30))\n",
    "\n",
    "start = time.time()\n",
    "for i in range(n_cuts):\n",
    "    for j in range(n_lambda):\n",
    "        model_params = {\"delta_min\": grid_cut[j,i], \"lam\": grid_lambda[j,i]}\n",
    "\n",
    "        results, _ =  runTrellisOnly(gt_trees, \n",
    "                                     model_params,\n",
    "                                     NleavesMin =NleavesMin, \n",
    "                                     NleavesMax= NleavesMax, \n",
    "                                     MaxNjets = MaxNjets)\n",
    "        total_Z = np.sum(results[\"Z\"])\n",
    "        likelihood_surface[j,i] = total_Z\n",
    "        if total_Z > max_Z:\n",
    "            #print(results[\"Z\"][0], max_Z)\n",
    "            max_Z = total_Z\n",
    "            mle_params = model_params\n",
    "        \n",
    "\n",
    "print(\"Total time = \", time.time() - start)"
   ]
  },
  {
   "cell_type": "code",
   "execution_count": null,
   "metadata": {},
   "outputs": [],
   "source": [
    "print(max_Z)\n",
    "print(mle_params)"
   ]
  },
  {
   "cell_type": "code",
   "execution_count": null,
   "metadata": {},
   "outputs": [],
   "source": [
    "likelihood_surface[np.isnan(likelihood_surface)] = -np.inf\n",
    "mle_coords = np.unravel_index(np.argmax(likelihood_surface, axis=None), likelihood_surface.shape)\n",
    "mle_coords"
   ]
  },
  {
   "cell_type": "code",
   "execution_count": null,
   "metadata": {},
   "outputs": [],
   "source": [
    "truth_bin = [None, None]\n",
    "for ix, x in enumerate(cut_vals >= 36):\n",
    "    if x.item() is True:\n",
    "        truth_bin[0] = ix-1\n",
    "        print(ix-1)\n",
    "        break\n",
    "        \n",
    "for ix, x in enumerate(lambda_vals >= 2.1):\n",
    "    if x.item() is True:\n",
    "        truth_bin[1] = ix-1\n",
    "        print(ix-1)\n",
    "        break"
   ]
  },
  {
   "cell_type": "code",
   "execution_count": null,
   "metadata": {},
   "outputs": [],
   "source": [
    "fig, ax = plt.subplots(nrows=1, ncols=1)\n",
    "fig.set_size_inches(8,8)\n",
    "\n",
    "cm = ax.imshow(likelihood_surface, cmap=\"PuBuGn\", interpolation=\"none\", extent=[0,30,0,30], origin=\"lower\")\n",
    "ax.plot(mle_coords[1]+0.5, mle_coords[0]+0.5, '*', color='yellow', markersize=9, label=\"MLE\")\n",
    "ax.plot(truth_bin[0]+0.5, truth_bin[1]+0.5, \"*\", color=\"red\", markersize=9, label=\"Truth\")\n",
    "cb = fig.colorbar(cm, ax=ax, shrink=0.82)\n",
    "cb.set_label(label=\"Log Likelihood\", size=18)\n",
    "ax.legend(labelcolor=\"white\", facecolor=\"black\", fontsize=\"large\")\n",
    "\n",
    "ax.set_title(\"Likelihood Surface vs Ginkgo Parameters\", size=15)\n",
    "ax.set_xlabel(\"Stopping Value (pt_cut/delta_min)\", size=13)\n",
    "ax.set_ylabel(\"Splitting Parameter ($\\lambda$)\", size=13)\n",
    "ax.set_xticks(np.arange(0, 30, 3))\n",
    "ax.set_yticks(np.arange(0, 30, 3))\n",
    "ax.set_xticklabels(np.round(cut_vals[::3], decimals=0))\n",
    "ax.set_yticklabels(np.round(lambda_vals[::3], decimals=3));\n",
    "\n",
    "#fig.savefig(\"likelihood_landscape3.png\")"
   ]
  },
  {
   "cell_type": "code",
   "execution_count": null,
   "metadata": {},
   "outputs": [],
   "source": [
    "#np.save(\"../data/likelihood_fit_ginkgo_100_jets_lambda_21_pt_min_36_jetp_400.npy\", likelihood_surface)"
   ]
  },
  {
   "cell_type": "markdown",
   "metadata": {},
   "source": [
    "### Load likelihood data"
   ]
  },
  {
   "cell_type": "code",
   "execution_count": 16,
   "metadata": {},
   "outputs": [],
   "source": [
    "likelihood_surface = np.load(\"data/likelihood_fit_trellis_ginkgo_1000_jets_lambda_21_pt_min_36_jetp_400.npy\")"
   ]
  },
  {
   "cell_type": "code",
   "execution_count": 20,
   "metadata": {},
   "outputs": [],
   "source": [
    "n_cuts = 40\n",
    "n_lambda = 40\n",
    "N_jets = 1000\n",
    "\n",
    "cut_vals = np.linspace(4, 90, n_cuts)\n",
    "lambda_vals = np.linspace(1e-1, 5, n_lambda)"
   ]
  },
  {
   "cell_type": "code",
   "execution_count": 21,
   "metadata": {},
   "outputs": [
    {
     "data": {
      "text/plain": [
       "(7, 13)"
      ]
     },
     "execution_count": 21,
     "metadata": {},
     "output_type": "execute_result"
    }
   ],
   "source": [
    "likelihood_surface[np.isnan(likelihood_surface)] = -np.inf\n",
    "mle_coords = np.unravel_index(np.argmax(likelihood_surface, axis=None), likelihood_surface.shape)\n",
    "mle_coords"
   ]
  },
  {
   "cell_type": "code",
   "execution_count": 22,
   "metadata": {},
   "outputs": [
    {
     "data": {
      "text/plain": [
       "(0.9794871794871794, 32.66666666666667)"
      ]
     },
     "execution_count": 22,
     "metadata": {},
     "output_type": "execute_result"
    }
   ],
   "source": [
    "lambda_vals[mle_coords[0]], cut_vals[mle_coords[1]]"
   ]
  },
  {
   "cell_type": "markdown",
   "metadata": {},
   "source": [
    "## Load Grid Search Batches"
   ]
  },
  {
   "cell_type": "code",
   "execution_count": 35,
   "metadata": {},
   "outputs": [],
   "source": [
    "def get_likelihood_surface(cut_min, cut_max, n_cuts,\n",
    "                           lambda_min, lambda_max, n_lambda,\n",
    "                           likelihood=\"marginal\",\n",
    "                           datadir=\"/scratch/mdd424/data/trellis\"):\n",
    "    \n",
    "    if likelihood.lower() == \"marginal\":\n",
    "        key = \"Z\"\n",
    "    elif likelihood.lower() == \"map\":\n",
    "        key = \"trellis_MLE\"\n",
    "    else:\n",
    "        return None\n",
    "    \n",
    "    cut_vals = np.linspace(cut_min, cut_max, n_cuts)\n",
    "    lambda_vals = np.linspace(lambda_min, lambda_max, n_lambda)\n",
    "    \n",
    "    grid_cut, grid_lambda = np.meshgrid(cut_vals, lambda_vals)\n",
    "    \n",
    "    max_Z = -np.inf\n",
    "    mle_params = None\n",
    "    likelihood_surface = np.zeros((n_lambda, n_cuts))\n",
    "\n",
    "    for i in range(n_cuts):\n",
    "        for j in range(n_lambda):\n",
    "            model_params = {\"delta_min\": grid_cut[j,i], \"lam\": grid_lambda[j,i]}\n",
    "\n",
    "            in_filename = os.path.join(datadir, \"trellis_1000_jets_lambda_{:n}_ptcut_{:n}_{}_{}.pkl\".format(\n",
    "                int(1000*float(grid_lambda[j,i])),\n",
    "                int(float(grid_cut[j,i])),\n",
    "                j,\n",
    "                i))\n",
    "            with open(in_filename, \"rb\") as fd:\n",
    "                results = pickle.load(fd, encoding='latin-1')\n",
    "\n",
    "            avg_Z = np.sum(results[key])\n",
    "            likelihood_surface[j,i] = avg_Z\n",
    "            if avg_Z > max_Z:\n",
    "                max_Z = avg_Z\n",
    "                mle_params = model_params\n",
    "                \n",
    "    return likelihood_surface"
   ]
  },
  {
   "cell_type": "code",
   "execution_count": 36,
   "metadata": {},
   "outputs": [],
   "source": [
    "n_cuts = 40\n",
    "n_lambda = 40\n",
    "N_jets = 1000\n",
    "\n",
    "cut_min = 4\n",
    "cut_max = 90\n",
    "lambda_min = 1e-1\n",
    "lambda_max = 5\n",
    "\n",
    "likelihood_surface = get_likelihood_surface(cut_min, cut_max, n_cuts, lambda_min, lambda_max, n_lambda, likelihood=\"marginal\")"
   ]
  },
  {
   "cell_type": "code",
   "execution_count": 37,
   "metadata": {},
   "outputs": [],
   "source": [
    "likelihood_map_surface = get_likelihood_surface(cut_min, cut_max, n_cuts, lambda_min, lambda_max, n_lambda, likelihood=\"MAP\")"
   ]
  },
  {
   "cell_type": "code",
   "execution_count": 38,
   "metadata": {},
   "outputs": [],
   "source": [
    "#np.save(\"data/likelihood_fit_trellis_map_ginkgo_1000_jets_lambda_21_pt_min_36_jetp_400.npy\", likelihood_map_surface)"
   ]
  },
  {
   "cell_type": "code",
   "execution_count": 33,
   "metadata": {},
   "outputs": [],
   "source": [
    "#np.save(\"data/likelihood_fit_trellis_ginkgo_1000_jets_lambda_21_pt_min_36_jetp_400.npy\", likelihood_surface)"
   ]
  },
  {
   "cell_type": "code",
   "execution_count": 34,
   "metadata": {},
   "outputs": [
    {
     "data": {
      "text/plain": [
       "(7, 13)"
      ]
     },
     "execution_count": 34,
     "metadata": {},
     "output_type": "execute_result"
    }
   ],
   "source": [
    "mle_coords = np.unravel_index(np.argmax(likelihood_surface[~np.isnan(likelihood_surface)], axis=None), likelihood_surface.shape)\n",
    "mle_coords"
   ]
  },
  {
   "cell_type": "code",
   "execution_count": 24,
   "metadata": {},
   "outputs": [
    {
     "name": "stdout",
     "output_type": "stream",
     "text": [
      "14\n",
      "15\n"
     ]
    }
   ],
   "source": [
    "truth_bin = [None, None]\n",
    "for ix, x in enumerate(cut_vals >= 36):\n",
    "    if x.item() is True:\n",
    "        truth_bin[0] = ix-1\n",
    "        print(ix-1)\n",
    "        break\n",
    "        \n",
    "for ix, x in enumerate(lambda_vals >= 2.1):\n",
    "    if x.item() is True:\n",
    "        truth_bin[1] = ix-1\n",
    "        print(ix-1)\n",
    "        break"
   ]
  },
  {
   "cell_type": "code",
   "execution_count": 25,
   "metadata": {},
   "outputs": [
    {
     "data": {
      "image/png": "[encoded data removed]",
      "text/plain": [
       "<Figure size 576x576 with 2 Axes>"
      ]
     },
     "metadata": {
      "needs_background": "light"
     },
     "output_type": "display_data"
    }
   ],
   "source": [
    "fig, ax = plt.subplots(nrows=1, ncols=1)\n",
    "fig.set_size_inches(8,8)\n",
    "\n",
    "cm = ax.imshow(likelihood_surface, cmap=\"PuBuGn\", interpolation=\"none\", extent=[0,40,0,40], origin=\"lower\")\n",
    "ax.plot(mle_coords[1]+0.5, mle_coords[0]+0.5, '*', color='yellow', markersize=9, label=\"MLE\")\n",
    "ax.plot(truth_bin[0]+0.5, truth_bin[1]+0.5, \"*\", color=\"red\", markersize=9, label=\"Truth\")\n",
    "cb = fig.colorbar(cm, ax=ax, shrink=0.82)\n",
    "cb.set_label(label=\"logL(point) - logL(MLE)\", size=18)\n",
    "ax.legend(labelcolor=\"white\", facecolor=\"black\", fontsize=\"large\")\n",
    "\n",
    "ax.set_title(\"Likelihood Surface vs Ginkgo Parameters\", size=15)\n",
    "ax.set_xlabel(\"Stopping Value (pt_cut/delta_min)\", size=13)\n",
    "ax.set_ylabel(\"Splitting Parameter ($\\lambda$)\", size=13)\n",
    "ax.set_xticks(np.arange(0, 40, 3))\n",
    "ax.set_yticks(np.arange(0, 40, 3))\n",
    "ax.set_xticklabels(np.round(cut_vals[::3], decimals=0))\n",
    "ax.set_yticklabels(np.round(lambda_vals[::3], decimals=3));"
   ]
  },
  {
   "cell_type": "code",
   "execution_count": 26,
   "metadata": {},
   "outputs": [
    {
     "data": {
      "text/plain": [
       "-384.5555338568556"
      ]
     },
     "execution_count": 26,
     "metadata": {},
     "output_type": "execute_result"
    }
   ],
   "source": [
    "likelihood_surface[truth_bin[1], truth_bin[0]] - likelihood_surface[mle_coords]"
   ]
  },
  {
   "cell_type": "code",
   "execution_count": 27,
   "metadata": {},
   "outputs": [
    {
     "data": {
      "image/png": "[encoded data removed]",
      "text/plain": [
       "<Figure size 576x576 with 2 Axes>"
      ]
     },
     "metadata": {
      "needs_background": "light"
     },
     "output_type": "display_data"
    }
   ],
   "source": [
    "fig, ax = plt.subplots(nrows=1, ncols=1)\n",
    "fig.set_size_inches(8,8)\n",
    "\n",
    "Z = -2*(likelihood_surface-likelihood_surface[mle_coords])\n",
    "\n",
    "# Boost the upper limit to avoid truncation errors.\n",
    "levels = -2*np.flip(np.linspace(-2, 0, 70))*1000\n",
    "\n",
    "cset1 = ax.contourf(grid_cut, grid_lambda, Z,\n",
    "                    levels, cmap=\"PuBuGn_r\")\n",
    "cb = fig.colorbar(cset1, ax=ax)\n",
    "cb.set_label(label=\"-2(logL(point) - logL(MLE))\", size=18)\n",
    "\n",
    "ax.plot(cut_vals[truth_bin[0]], lambda_vals[truth_bin[1]], \"*\", color=\"red\", markersize=9, label=\"Truth\")\n",
    "ax.plot(cut_vals[mle_coords[1]], lambda_vals[mle_coords[0]], \"*\", color=\"yellow\", markersize=9, label=\"MLE\")\n",
    "\n",
    "ax.legend(labelcolor=\"white\", facecolor=\"black\", fontsize=\"large\")\n",
    "\n",
    "ax.set_title(\"Likelihood Surface vs Ginkgo Parameters\", size=15)\n",
    "ax.set_xlabel(\"Stopping Value (pt_cut/delta_min)\", size=13)\n",
    "ax.set_ylabel(\"Splitting Parameter ($\\lambda$)\", size=13)\n",
    "#ax.set_yscale(\"log\")\n",
    "ax.set_xticks(cut_vals[::4])\n",
    "ax.set_yticks(lambda_vals[::3]);"
   ]
  },
  {
   "cell_type": "code",
   "execution_count": null,
   "metadata": {},
   "outputs": [],
   "source": []
  },
  {
   "cell_type": "code",
   "execution_count": null,
   "metadata": {},
   "outputs": [],
   "source": []
  }
 ],
 "metadata": {
  "kernelspec": {
   "display_name": "Python 3",
   "language": "python",
   "name": "python3"
  },
  "language_info": {
   "codemirror_mode": {
    "name": "ipython",
    "version": 3
   },
   "file_extension": ".py",
   "mimetype": "text/x-python",
   "name": "python",
   "nbconvert_exporter": "python",
   "pygments_lexer": "ipython3",
   "version": "3.8.5"
  }
 },
 "nbformat": 4,
 "nbformat_minor": 2
}
