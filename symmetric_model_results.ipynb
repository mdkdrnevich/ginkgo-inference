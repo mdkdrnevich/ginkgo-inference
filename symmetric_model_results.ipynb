{
 "cells": [
  {
   "cell_type": "code",
   "execution_count": 1,
   "id": "0bad2ba8",
   "metadata": {},
   "outputs": [],
   "source": [
    "import numpy as np\n",
    "import os\n",
    "import pickle\n",
    "import time\n",
    "\n",
    "import matplotlib.pyplot as plt\n",
    "from matplotlib.patches import Rectangle"
   ]
  },
  {
   "cell_type": "code",
   "execution_count": 2,
   "id": "43e08bad",
   "metadata": {},
   "outputs": [],
   "source": [
    "def load_jets(root_dir, filename):\n",
    "    \"\"\"Load truth binary trees\"\"\"\n",
    "    #root_dir = \"../data/\"\n",
    "    filename = os.path.join(root_dir, filename)\n",
    "    with open(filename + \".pkl\", \"rb\") as fd:\n",
    "        Truth= pickle.load(fd, encoding='latin-1')\n",
    "    return Truth"
   ]
  },
  {
   "cell_type": "code",
   "execution_count": 3,
   "id": "e8e02572",
   "metadata": {},
   "outputs": [],
   "source": [
    "lambda_truth = 1.5\n",
    "pt_cut_truth = 9.0\n",
    "\n",
    "n_lambda = 150\n",
    "N_jets = 10000\n",
    "\n",
    "#lambda_min = 1.6\n",
    "#lambda_max = 2.75\n",
    "\n",
    "lambda_min = 1.0\n",
    "lambda_max = 2.5\n",
    "\n",
    "lambda_vals = np.linspace(lambda_min, lambda_max, n_lambda)\n",
    "\n",
    "Njets = 20000"
   ]
  },
  {
   "cell_type": "code",
   "execution_count": 4,
   "id": "f8adcb5b",
   "metadata": {},
   "outputs": [
    {
     "data": {
      "text/plain": [
       "49"
      ]
     },
     "execution_count": 4,
     "metadata": {},
     "output_type": "execute_result"
    }
   ],
   "source": [
    "truth_bin = None\n",
    "        \n",
    "for ix, x in enumerate(lambda_vals >= lambda_truth):\n",
    "    if x.item() is True:\n",
    "        truth_bin = ix-1\n",
    "        break\n",
    "truth_bin"
   ]
  },
  {
   "cell_type": "code",
   "execution_count": 5,
   "id": "822eb23e",
   "metadata": {},
   "outputs": [],
   "source": [
    "gt_trees = load_jets(\"data\", \"ginkgo_{}_jets_no_cuts_lambda_{}_pt_min_{}_jetp_400_with_perm_sym\".format(Njets,\n",
    "                                                                                                    int(lambda_truth*10),\n",
    "                                                                                                    int(pt_cut_truth)))  # My test file"
   ]
  },
  {
   "cell_type": "code",
   "execution_count": 6,
   "id": "9f91f139",
   "metadata": {},
   "outputs": [],
   "source": [
    "truth_num_leaves = np.array([len(x[\"leaves\"]) for x in gt_trees])\n",
    "truth_num_leaves_sigma = np.sqrt(np.histogram(truth_num_leaves, bins=np.arange(1,16)-0.5)[0]) / truth_num_leaves.size"
   ]
  },
  {
   "cell_type": "code",
   "execution_count": 7,
   "id": "37bf00b1",
   "metadata": {},
   "outputs": [
    {
     "data": {
      "text/plain": [
       "<matplotlib.legend.Legend at 0x14b03ab0e5b0>"
      ]
     },
     "execution_count": 7,
     "metadata": {},
     "output_type": "execute_result"
    },
    {
     "data": {
      "image/png": "[encoded data removed]",
      "text/plain": [
       "<Figure size 864x864 with 1 Axes>"
      ]
     },
     "metadata": {
      "needs_background": "light"
     },
     "output_type": "display_data"
    }
   ],
   "source": [
    "fig, ax = plt.subplots(nrows=1, ncols=1)\n",
    "fig.set_size_inches(12,12)\n",
    "\n",
    "truth_hist = ax.hist(truth_num_leaves, bins=np.arange(1,16)-0.5, histtype=\"step\", linewidth=1.5, density=True, label=\"Observed\")\n",
    "for i in range(14):\n",
    "    ax.vlines(i+1,\n",
    "              ymin=truth_hist[0][i] - truth_num_leaves_sigma[i],\n",
    "              ymax=truth_hist[0][i] + truth_num_leaves_sigma[i],\n",
    "              colors=\"blue\", linestyle=\"solid\", linewidth=2)\n",
    "\n",
    "ax.set_xlabel(\"Number of Leaves\", size=13)\n",
    "ax.set_ylabel(\"Normalized Count\", size=13)\n",
    "ax.set_title(\"Distribution of Number of Leaves\", size=15)\n",
    "ax.legend(fontsize=\"large\")"
   ]
  },
  {
   "cell_type": "code",
   "execution_count": 8,
   "id": "197c9276",
   "metadata": {},
   "outputs": [],
   "source": [
    "def get_likelihood_surface_array(lambda_min, lambda_max, n_lambda,\n",
    "                                 Njets=10000,\n",
    "                                 pt_cut=30.0,\n",
    "                                 likelihood=\"marginal\",\n",
    "                                 datadir=\"/scratch/mdd424/data/trellis\"):\n",
    "    \n",
    "    if likelihood.lower() == \"marginal\":\n",
    "        key = \"Z\"\n",
    "    elif likelihood.lower() == \"map\":\n",
    "        key = \"trellis_MLE\"\n",
    "    else:\n",
    "        return None\n",
    "    \n",
    "    lambda_vals = np.linspace(lambda_min, lambda_max, n_lambda)\n",
    "        \n",
    "    likelihood_surface = np.zeros((Njets, n_lambda))\n",
    "    \n",
    "    for i in range(n_lambda):\n",
    "        model_params = {\"delta_min\": pt_cut, \"lam\": lambda_vals[i]}\n",
    "\n",
    "        in_filename = os.path.join(datadir, \"trellis_{}_jets_1D_lambda_{:n}_ptcut_{:n}_{}_with_perm_sym.pkl\".format(\n",
    "            Njets,\n",
    "            int(lambda_vals[i])*1000,\n",
    "            int(pt_cut),\n",
    "            i))\n",
    "        with open(in_filename, \"rb\") as fd:\n",
    "            results = pickle.load(fd, encoding='latin-1')\n",
    "\n",
    "        for k in range(Njets):\n",
    "            likelihood_surface[k,i] = results[key][k]\n",
    "                \n",
    "    return likelihood_surface"
   ]
  },
  {
   "cell_type": "code",
   "execution_count": 9,
   "id": "274495cf",
   "metadata": {},
   "outputs": [],
   "source": [
    "Njets = 20000\n",
    "\n",
    "likelihood_surface_array = get_likelihood_surface_array(lambda_min, lambda_max, n_lambda,\n",
    "                                                        Njets=Njets,\n",
    "                                                        pt_cut=pt_cut_truth,\n",
    "                                                        likelihood=\"marginal\")"
   ]
  },
  {
   "cell_type": "code",
   "execution_count": 10,
   "id": "9f60332b",
   "metadata": {},
   "outputs": [],
   "source": [
    "bad_indices = []\n",
    "for ix, entry in enumerate(likelihood_surface_array):\n",
    "    if np.isnan(entry).sum() == n_lambda:\n",
    "        bad_indices.append(ix)\n",
    "bad_indices = np.array(bad_indices)\n",
    "        \n",
    "good_indices = np.arange(likelihood_surface_array.shape[0])\n",
    "for bad_ix in bad_indices:\n",
    "    good_indices = good_indices[good_indices != bad_ix]"
   ]
  },
  {
   "cell_type": "code",
   "execution_count": 11,
   "id": "2d4ac921",
   "metadata": {},
   "outputs": [],
   "source": [
    "likelihood_surface_array = likelihood_surface_array[good_indices]\n",
    "gt_trees = (np.array(gt_trees)[good_indices]).tolist()"
   ]
  },
  {
   "cell_type": "code",
   "execution_count": 12,
   "id": "bc817154",
   "metadata": {},
   "outputs": [],
   "source": [
    "total_likelihood_surface = np.sum(likelihood_surface_array, axis=0)"
   ]
  },
  {
   "cell_type": "code",
   "execution_count": 13,
   "id": "45f38294",
   "metadata": {},
   "outputs": [
    {
     "data": {
      "text/plain": [
       "0"
      ]
     },
     "execution_count": 13,
     "metadata": {},
     "output_type": "execute_result"
    }
   ],
   "source": [
    "mle_coords = np.unravel_index(np.argmax(total_likelihood_surface[~np.isnan(total_likelihood_surface)], axis=None),\n",
    "                                  total_likelihood_surface.shape)[0]\n",
    "mle_coords"
   ]
  },
  {
   "cell_type": "code",
   "execution_count": 14,
   "id": "178a4c97",
   "metadata": {},
   "outputs": [
    {
     "data": {
      "image/png": "[encoded data removed]",
      "text/plain": [
       "<Figure size 648x576 with 1 Axes>"
      ]
     },
     "metadata": {
      "needs_background": "light"
     },
     "output_type": "display_data"
    }
   ],
   "source": [
    "fig, ax = plt.subplots(nrows=1, ncols=1)\n",
    "fig.set_size_inches(9,8)\n",
    "\n",
    "Z = -2*(total_likelihood_surface-total_likelihood_surface.max())\n",
    "\n",
    "chi2_marginal = Z[truth_bin]\n",
    "\n",
    "ax.plot(lambda_vals, Z)\n",
    "ax.plot(lambda_vals[mle_coords], Z[mle_coords], '*', color=\"orange\", label=\"MLE\", markersize=10)\n",
    "#for coords in batch_mle_coords:\n",
    "#    ax.plot(lambda_vals[coords], Z[coords], \"*\", color=\"orange\", markersize=9)\n",
    "ax.plot(lambda_vals[truth_bin], Z[truth_bin], '*', label=\"Truth\", markersize=10, color=\"red\")\n",
    "ax.plot([], [], ' ', label=\"$\\chi^2$: {:.1f}\".format(chi2_marginal))\n",
    "\n",
    "\n",
    "ax.legend(labelcolor=\"white\", facecolor=\"black\", fontsize=\"large\")\n",
    "ax.grid()\n",
    "\n",
    "ax.set_title(\"Trellis Likelihood Surface vs Ginkgo Parameters\", size=15)\n",
    "ax.set_xlabel(\"Splitting Parameter ($\\lambda$)\", size=13)\n",
    "ax.set_ylabel(\"-2log (L(point) / L(MLE))\", size=13)\n",
    "ax.set_xticks(lambda_vals[::15]);"
   ]
  },
  {
   "cell_type": "code",
   "execution_count": null,
   "id": "4babc247",
   "metadata": {},
   "outputs": [],
   "source": []
  }
 ],
 "metadata": {
  "kernelspec": {
   "display_name": "Python 3",
   "language": "python",
   "name": "python3"
  },
  "language_info": {
   "codemirror_mode": {
    "name": "ipython",
    "version": 3
   },
   "file_extension": ".py",
   "mimetype": "text/x-python",
   "name": "python",
   "nbconvert_exporter": "python",
   "pygments_lexer": "ipython3",
   "version": "3.8.5"
  }
 },
 "nbformat": 4,
 "nbformat_minor": 5
}
